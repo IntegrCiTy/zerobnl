{
 "cells": [
  {
   "cell_type": "markdown",
   "metadata": {},
   "source": [
    "# Power grid example model definition\n",
    "We considere the following power grid taken from [a CIGRE network](http://www.cigre.org/News/Network-of-the-Future) described by the following picture\n",
    "\n",
    "<img src=\"https://pandapower.readthedocs.io/en/v1.4.1/_images/cigre_network_lv.png\" alt=\"Model\" style=\"width: 500px;\"/>\n",
    "\n",
    "A model of this network can be created using pandapower as follow:"
   ]
  },
  {
   "cell_type": "code",
   "execution_count": 1,
   "metadata": {},
   "outputs": [
    {
     "name": "stderr",
     "output_type": "stream",
     "text": [
      "/home/pablo/Projects/zerobnl/venv/lib/python3.6/importlib/_bootstrap.py:219: RuntimeWarning: numpy.dtype size changed, may indicate binary incompatibility. Expected 96, got 88\n",
      "  return f(*args, **kwds)\n"
     ]
    }
   ],
   "source": [
    "import pandapower as pp\n",
    " \n",
    "net = pp.create_empty_network()"
   ]
  },
  {
   "cell_type": "markdown",
   "metadata": {},
   "source": [
    "## Create lines types from parameters"
   ]
  },
  {
   "cell_type": "code",
   "execution_count": 2,
   "metadata": {},
   "outputs": [],
   "source": [
    "line_data = {\"c_nf_per_km\": 0.0, \"r_ohm_per_km\": 0.4917, \"x_ohm_per_km\": 0.2847, \"max_i_ka\": 1.0, \"type\": \"ol\"}\n",
    "pp.create_std_type(net, line_data, \"OH1\", element='line')"
   ]
  },
  {
   "cell_type": "code",
   "execution_count": 3,
   "metadata": {},
   "outputs": [],
   "source": [
    "line_data = {\"c_nf_per_km\": 0.0, \"r_ohm_per_km\": 1.3207, \"x_ohm_per_km\": 0.3210, \"max_i_ka\": 1.0, \"type\": \"ol\"}\n",
    "pp.create_std_type(net, line_data, \"OH2\", element='line')"
   ]
  },
  {
   "cell_type": "code",
   "execution_count": 4,
   "metadata": {},
   "outputs": [],
   "source": [
    "line_data = {\"c_nf_per_km\": 0.0, \"r_ohm_per_km\": 0.1620, \"x_ohm_per_km\": 0.0832, \"max_i_ka\": 1.0, \"type\": \"cs\"}\n",
    "pp.create_std_type(net, line_data, \"UG1\", element='line')"
   ]
  },
  {
   "cell_type": "code",
   "execution_count": 5,
   "metadata": {},
   "outputs": [],
   "source": [
    "line_data = {\"c_nf_per_km\": 0.0, \"r_ohm_per_km\": 0.2647, \"x_ohm_per_km\": 0.0823, \"max_i_ka\": 1.0, \"type\": \"cs\"}\n",
    "pp.create_std_type(net, line_data, \"UG2\", element='line')"
   ]
  },
  {
   "cell_type": "code",
   "execution_count": 6,
   "metadata": {},
   "outputs": [],
   "source": [
    "line_data = {\"c_nf_per_km\": 0.0, \"r_ohm_per_km\": 0.8220, \"x_ohm_per_km\": 0.0847, \"max_i_ka\": 1.0, \"type\": \"cs\"}\n",
    "pp.create_std_type(net, line_data, \"UG3\", element='line')"
   ]
  },
  {
   "cell_type": "markdown",
   "metadata": {},
   "source": [
    "## Define geographical information\n",
    "Upload geodata for buses from .csv"
   ]
  },
  {
   "cell_type": "code",
   "execution_count": 7,
   "metadata": {
    "scrolled": true
   },
   "outputs": [],
   "source": [
    "import pandas as pd\n",
    "\n",
    "geo = pd.read_csv(\"bus_geodata.csv\", index_col=0)"
   ]
  },
  {
   "cell_type": "markdown",
   "metadata": {},
   "source": [
    "## Implement model\n",
    "Create buses (MV and LV)"
   ]
  },
  {
   "cell_type": "code",
   "execution_count": 8,
   "metadata": {},
   "outputs": [],
   "source": [
    "coord = (geo.loc[\"Bus 0 MV\", \"x\"], geo.loc[\"Bus 0 MV\", \"y\"])\n",
    "pp.create_bus(net, name=\"Bus 0 MV\", vn_kv=20.0, type=\"b\", geodata=coord)\n",
    "\n",
    "coord = (geo.loc[\"Bus R0 MV\", \"x\"], geo.loc[\"Bus R0 MV\", \"y\"])\n",
    "pp.create_bus(net, name=\"Bus R0 MV\", vn_kv=20.0, type=\"b\", geodata=coord)\n",
    "for i in range(1, 19):\n",
    "    name = \"Bus R{} LV\".format(i)\n",
    "    coord = (geo.loc[name, \"x\"], geo.loc[name, \"y\"])\n",
    "    pp.create_bus(net, name=name, vn_kv=0.4, type=\"n\", geodata=coord)\n",
    "\n",
    "coord = (geo.loc[\"Bus I0 MV\", \"x\"], geo.loc[\"Bus I0 MV\", \"y\"])\n",
    "pp.create_bus(net, name=\"Bus I0 MV\", vn_kv=20.0, type=\"b\", geodata=coord)\n",
    "for i in range(1, 3):\n",
    "    name = \"Bus I{} LV\".format(i)\n",
    "    coord = (geo.loc[name, \"x\"], geo.loc[name, \"y\"])\n",
    "    pp.create_bus(net, name=name, vn_kv=0.4, type=\"n\", geodata=coord)\n",
    "\n",
    "coord = (geo.loc[\"Bus C0 MV\", \"x\"], geo.loc[\"Bus C0 MV\", \"y\"])\n",
    "pp.create_bus(net, name=\"Bus C0 MV\", vn_kv=20.0, type=\"b\", geodata=coord)\n",
    "for i in range(1, 21):\n",
    "    name = \"Bus C{} LV\".format(i)\n",
    "    coord = (geo.loc[name, \"x\"], geo.loc[name, \"y\"])\n",
    "    pp.create_bus(net, name=name, vn_kv=0.4, type=\"n\", geodata=coord)"
   ]
  },
  {
   "cell_type": "markdown",
   "metadata": {},
   "source": [
    "Add lines (LV) -> Residential"
   ]
  },
  {
   "cell_type": "code",
   "execution_count": 9,
   "metadata": {},
   "outputs": [],
   "source": [
    "for i in range(2, 11):\n",
    "    from_bus = pp.get_element_index(net, \"bus\", \"Bus R{} LV\".format(i-1))\n",
    "    to_bus = pp.get_element_index(net, \"bus\", \"Bus R{} LV\".format(i))\n",
    "    pp.create_line(net, from_bus, to_bus, length_km=0.035, std_type=\"UG1\", name=\"Line R{}-R{}\".format(i-1, i))\n",
    "\n",
    "for u, v in [(3, 11), (4, 12), (12, 13), (13, 14), (14, 15), (6, 16), (9, 17), (10, 18)]:\n",
    "    from_bus = pp.get_element_index(net, \"bus\", \"Bus R{} LV\".format(u))\n",
    "    to_bus = pp.get_element_index(net, \"bus\", \"Bus R{} LV\".format(v))\n",
    "    pp.create_line(net, from_bus, to_bus, length_km=0.030, std_type=\"UG3\", name=\"Line R{}-R{}\".format(u, v))"
   ]
  },
  {
   "cell_type": "markdown",
   "metadata": {},
   "source": [
    "Add lines (LV) -> Industral"
   ]
  },
  {
   "cell_type": "code",
   "execution_count": 10,
   "metadata": {},
   "outputs": [
    {
     "data": {
      "text/plain": [
       "17"
      ]
     },
     "execution_count": 10,
     "metadata": {},
     "output_type": "execute_result"
    }
   ],
   "source": [
    "from_bus = pp.get_element_index(net, \"bus\", \"Bus I1 LV\")\n",
    "to_bus = pp.get_element_index(net, \"bus\", \"Bus I2 LV\")\n",
    "pp.create_line(net, from_bus, to_bus, length_km=0.20, std_type=\"UG2\", name=\"Line I1-I2\")"
   ]
  },
  {
   "cell_type": "markdown",
   "metadata": {},
   "source": [
    "Add lines (LV) -> Commercial"
   ]
  },
  {
   "cell_type": "code",
   "execution_count": 11,
   "metadata": {},
   "outputs": [],
   "source": [
    "for i in range(2, 10):\n",
    "    from_bus = pp.get_element_index(net, \"bus\", \"Bus C{} LV\".format(i-1))\n",
    "    to_bus = pp.get_element_index(net, \"bus\", \"Bus C{} LV\".format(i))\n",
    "    pp.create_line(net, from_bus, to_bus, length_km=0.030, std_type=\"OH1\", name=\"Line C{}-C{}\".format(i-1, i))\n",
    "\n",
    "for u, v in [(3, 10), (10, 11), (11, 12), (11, 13), (10, 14), (5, 15), (15, 16), (15, 17), (16, 18), (8, 19), (9, 20)]:\n",
    "    from_bus = pp.get_element_index(net, \"bus\", \"Bus C{} LV\".format(u))\n",
    "    to_bus = pp.get_element_index(net, \"bus\", \"Bus C{} LV\".format(v))\n",
    "    pp.create_line(net, from_bus, to_bus, length_km=0.030, std_type=\"OH2\", name=\"Line C{}-C{}\".format(u, v))"
   ]
  },
  {
   "cell_type": "markdown",
   "metadata": {},
   "source": [
    "Add transformer (MV to LV) -> Residential"
   ]
  },
  {
   "cell_type": "code",
   "execution_count": 12,
   "metadata": {},
   "outputs": [
    {
     "data": {
      "text/plain": [
       "0"
      ]
     },
     "execution_count": 12,
     "metadata": {},
     "output_type": "execute_result"
    }
   ],
   "source": [
    "hv_bus = pp.get_element_index(net, \"bus\", \"Bus R0 MV\")\n",
    "lv_bus = pp.get_element_index(net, \"bus\", \"Bus R1 LV\")\n",
    "pp.create_transformer(net, hv_bus=hv_bus, lv_bus=lv_bus, std_type=\"0.63 MVA 20/0.4 kV\", name=\"Tr R0-R1\")"
   ]
  },
  {
   "cell_type": "markdown",
   "metadata": {},
   "source": [
    "Add transformer (MV to LV) -> Industrial"
   ]
  },
  {
   "cell_type": "code",
   "execution_count": 13,
   "metadata": {},
   "outputs": [
    {
     "data": {
      "text/plain": [
       "1"
      ]
     },
     "execution_count": 13,
     "metadata": {},
     "output_type": "execute_result"
    }
   ],
   "source": [
    "hv_bus = pp.get_element_index(net, \"bus\", \"Bus I0 MV\")\n",
    "lv_bus = pp.get_element_index(net, \"bus\", \"Bus I1 LV\")\n",
    "pp.create_transformer(net, hv_bus=hv_bus, lv_bus=lv_bus, std_type=\"0.25 MVA 20/0.4 kV\", name=\"Tr I0-I1\")"
   ]
  },
  {
   "cell_type": "markdown",
   "metadata": {},
   "source": [
    "Add transformer (MV to LV) -> Commercial"
   ]
  },
  {
   "cell_type": "code",
   "execution_count": 14,
   "metadata": {},
   "outputs": [
    {
     "data": {
      "text/plain": [
       "2"
      ]
     },
     "execution_count": 14,
     "metadata": {},
     "output_type": "execute_result"
    }
   ],
   "source": [
    "hv_bus = pp.get_element_index(net, \"bus\", \"Bus C0 MV\")\n",
    "lv_bus = pp.get_element_index(net, \"bus\", \"Bus C1 LV\")\n",
    "pp.create_transformer(net, hv_bus=hv_bus, lv_bus=lv_bus, std_type=\"0.4 MVA 20/0.4 kV\", name=\"Tr C0-C1\")"
   ]
  },
  {
   "cell_type": "markdown",
   "metadata": {},
   "source": [
    "Add switches"
   ]
  },
  {
   "cell_type": "code",
   "execution_count": 15,
   "metadata": {},
   "outputs": [
    {
     "data": {
      "text/plain": [
       "2"
      ]
     },
     "execution_count": 15,
     "metadata": {},
     "output_type": "execute_result"
    }
   ],
   "source": [
    "bus = pp.get_element_index(net, \"bus\", \"Bus 0 MV\")\n",
    "\n",
    "e1 = pp.get_element_index(net, \"bus\", \"Bus R0 MV\")\n",
    "pp.create_switch(net, bus, e1, et=\"b\", closed=True, type=\"CB\", name=\"S1\")\n",
    "\n",
    "e2 = pp.get_element_index(net, \"bus\", \"Bus I0 MV\")\n",
    "pp.create_switch(net, bus, e2, et=\"b\", closed=True, type=\"CB\", name=\"S2\")\n",
    "\n",
    "e3 = pp.get_element_index(net, \"bus\", \"Bus C0 MV\")\n",
    "pp.create_switch(net, bus, e3, et=\"b\", closed=True, type=\"CB\", name=\"S3\")"
   ]
  },
  {
   "cell_type": "markdown",
   "metadata": {},
   "source": [
    "Add external grid connection"
   ]
  },
  {
   "cell_type": "code",
   "execution_count": 16,
   "metadata": {},
   "outputs": [
    {
     "data": {
      "text/plain": [
       "0"
      ]
     },
     "execution_count": 16,
     "metadata": {},
     "output_type": "execute_result"
    }
   ],
   "source": [
    "bus = pp.get_element_index(net, \"bus\", \"Bus 0 MV\")\n",
    "pp.create_ext_grid(net, bus, name=\"Feeder\")"
   ]
  },
  {
   "cell_type": "markdown",
   "metadata": {},
   "source": [
    "## Define consumption points\n",
    "Set loads -> Residential"
   ]
  },
  {
   "cell_type": "code",
   "execution_count": 17,
   "metadata": {},
   "outputs": [],
   "source": [
    "load_buses_r = [\"R1\", \"R11\", \"R15\", \"R16\", \"R17\", \"R18\"]\n",
    "for b in load_buses_r:\n",
    "    bus = pp.get_element_index(net, \"bus\", \"Bus {} LV\".format(b))\n",
    "    pp.create_load(net, bus=bus, p_kw=10.0, q_kvar=1.0, scaling=1.0, name=\"Load{}\".format(b))"
   ]
  },
  {
   "cell_type": "markdown",
   "metadata": {},
   "source": [
    "Set loads -> Industrial"
   ]
  },
  {
   "cell_type": "code",
   "execution_count": 18,
   "metadata": {},
   "outputs": [
    {
     "data": {
      "text/plain": [
       "6"
      ]
     },
     "execution_count": 18,
     "metadata": {},
     "output_type": "execute_result"
    }
   ],
   "source": [
    "bus = pp.get_element_index(net, \"bus\", \"Bus I2 LV\")\n",
    "pp.create_load(net, bus=bus, p_kw=10.0, q_kvar=1.0, scaling=1.0, name=\"LoadI2\")"
   ]
  },
  {
   "cell_type": "markdown",
   "metadata": {},
   "source": [
    "Set loads -> Commercial"
   ]
  },
  {
   "cell_type": "code",
   "execution_count": 19,
   "metadata": {},
   "outputs": [],
   "source": [
    "load_buses_c = [\"C1\", \"C12\", \"C13\", \"C14\", \"C17\", \"C18\", \"C19\", \"C20\"]\n",
    "for b in load_buses_c:\n",
    "    bus = pp.get_element_index(net, \"bus\", \"Bus {} LV\".format(b))\n",
    "    pp.create_load(net, bus=bus, p_kw=10.0, q_kvar=1.0, scaling=1.0, name=\"Load{}\".format(b))"
   ]
  },
  {
   "cell_type": "markdown",
   "metadata": {},
   "source": [
    "## Export to `.json` files"
   ]
  },
  {
   "cell_type": "code",
   "execution_count": 20,
   "metadata": {},
   "outputs": [],
   "source": [
    "import os\n",
    "data_folder = \"PowerGridData\"\n",
    "\n",
    "net.bus.to_json(os.path.join(data_folder, \"bus.json\"))\n",
    "net.bus_geodata.to_json(os.path.join(data_folder, \"bus_geodata.json\"))\n",
    "net.line.to_json(os.path.join(data_folder, \"line.json\"))\n",
    "net.trafo.to_json(os.path.join(data_folder, \"trafo.json\"))\n",
    "net.switch.to_json(os.path.join(data_folder, \"switch.json\"))\n",
    "net.ext_grid.to_json(os.path.join(data_folder, \"ext_grid.json\"))\n",
    "net.load.to_json(os.path.join(data_folder, \"load.json\"))"
   ]
  },
  {
   "cell_type": "code",
   "execution_count": 21,
   "metadata": {},
   "outputs": [
    {
     "data": {
      "text/html": [
       "<div>\n",
       "<style scoped>\n",
       "    .dataframe tbody tr th:only-of-type {\n",
       "        vertical-align: middle;\n",
       "    }\n",
       "\n",
       "    .dataframe tbody tr th {\n",
       "        vertical-align: top;\n",
       "    }\n",
       "\n",
       "    .dataframe thead th {\n",
       "        text-align: right;\n",
       "    }\n",
       "</style>\n",
       "<table border=\"1\" class=\"dataframe\">\n",
       "  <thead>\n",
       "    <tr style=\"text-align: right;\">\n",
       "      <th></th>\n",
       "      <th>name</th>\n",
       "      <th>bus</th>\n",
       "      <th>p_kw</th>\n",
       "      <th>q_kvar</th>\n",
       "      <th>const_z_percent</th>\n",
       "      <th>const_i_percent</th>\n",
       "      <th>sn_kva</th>\n",
       "      <th>scaling</th>\n",
       "      <th>in_service</th>\n",
       "      <th>type</th>\n",
       "    </tr>\n",
       "  </thead>\n",
       "  <tbody>\n",
       "    <tr>\n",
       "      <th>0</th>\n",
       "      <td>LoadR1</td>\n",
       "      <td>2</td>\n",
       "      <td>10.0</td>\n",
       "      <td>1.0</td>\n",
       "      <td>0.0</td>\n",
       "      <td>0.0</td>\n",
       "      <td>NaN</td>\n",
       "      <td>1.0</td>\n",
       "      <td>True</td>\n",
       "      <td>None</td>\n",
       "    </tr>\n",
       "    <tr>\n",
       "      <th>1</th>\n",
       "      <td>LoadR11</td>\n",
       "      <td>12</td>\n",
       "      <td>10.0</td>\n",
       "      <td>1.0</td>\n",
       "      <td>0.0</td>\n",
       "      <td>0.0</td>\n",
       "      <td>NaN</td>\n",
       "      <td>1.0</td>\n",
       "      <td>True</td>\n",
       "      <td>None</td>\n",
       "    </tr>\n",
       "    <tr>\n",
       "      <th>2</th>\n",
       "      <td>LoadR15</td>\n",
       "      <td>16</td>\n",
       "      <td>10.0</td>\n",
       "      <td>1.0</td>\n",
       "      <td>0.0</td>\n",
       "      <td>0.0</td>\n",
       "      <td>NaN</td>\n",
       "      <td>1.0</td>\n",
       "      <td>True</td>\n",
       "      <td>None</td>\n",
       "    </tr>\n",
       "    <tr>\n",
       "      <th>3</th>\n",
       "      <td>LoadR16</td>\n",
       "      <td>17</td>\n",
       "      <td>10.0</td>\n",
       "      <td>1.0</td>\n",
       "      <td>0.0</td>\n",
       "      <td>0.0</td>\n",
       "      <td>NaN</td>\n",
       "      <td>1.0</td>\n",
       "      <td>True</td>\n",
       "      <td>None</td>\n",
       "    </tr>\n",
       "    <tr>\n",
       "      <th>4</th>\n",
       "      <td>LoadR17</td>\n",
       "      <td>18</td>\n",
       "      <td>10.0</td>\n",
       "      <td>1.0</td>\n",
       "      <td>0.0</td>\n",
       "      <td>0.0</td>\n",
       "      <td>NaN</td>\n",
       "      <td>1.0</td>\n",
       "      <td>True</td>\n",
       "      <td>None</td>\n",
       "    </tr>\n",
       "    <tr>\n",
       "      <th>5</th>\n",
       "      <td>LoadR18</td>\n",
       "      <td>19</td>\n",
       "      <td>10.0</td>\n",
       "      <td>1.0</td>\n",
       "      <td>0.0</td>\n",
       "      <td>0.0</td>\n",
       "      <td>NaN</td>\n",
       "      <td>1.0</td>\n",
       "      <td>True</td>\n",
       "      <td>None</td>\n",
       "    </tr>\n",
       "    <tr>\n",
       "      <th>6</th>\n",
       "      <td>LoadI2</td>\n",
       "      <td>22</td>\n",
       "      <td>10.0</td>\n",
       "      <td>1.0</td>\n",
       "      <td>0.0</td>\n",
       "      <td>0.0</td>\n",
       "      <td>NaN</td>\n",
       "      <td>1.0</td>\n",
       "      <td>True</td>\n",
       "      <td>None</td>\n",
       "    </tr>\n",
       "    <tr>\n",
       "      <th>7</th>\n",
       "      <td>LoadC1</td>\n",
       "      <td>24</td>\n",
       "      <td>10.0</td>\n",
       "      <td>1.0</td>\n",
       "      <td>0.0</td>\n",
       "      <td>0.0</td>\n",
       "      <td>NaN</td>\n",
       "      <td>1.0</td>\n",
       "      <td>True</td>\n",
       "      <td>None</td>\n",
       "    </tr>\n",
       "    <tr>\n",
       "      <th>8</th>\n",
       "      <td>LoadC12</td>\n",
       "      <td>35</td>\n",
       "      <td>10.0</td>\n",
       "      <td>1.0</td>\n",
       "      <td>0.0</td>\n",
       "      <td>0.0</td>\n",
       "      <td>NaN</td>\n",
       "      <td>1.0</td>\n",
       "      <td>True</td>\n",
       "      <td>None</td>\n",
       "    </tr>\n",
       "    <tr>\n",
       "      <th>9</th>\n",
       "      <td>LoadC13</td>\n",
       "      <td>36</td>\n",
       "      <td>10.0</td>\n",
       "      <td>1.0</td>\n",
       "      <td>0.0</td>\n",
       "      <td>0.0</td>\n",
       "      <td>NaN</td>\n",
       "      <td>1.0</td>\n",
       "      <td>True</td>\n",
       "      <td>None</td>\n",
       "    </tr>\n",
       "    <tr>\n",
       "      <th>10</th>\n",
       "      <td>LoadC14</td>\n",
       "      <td>37</td>\n",
       "      <td>10.0</td>\n",
       "      <td>1.0</td>\n",
       "      <td>0.0</td>\n",
       "      <td>0.0</td>\n",
       "      <td>NaN</td>\n",
       "      <td>1.0</td>\n",
       "      <td>True</td>\n",
       "      <td>None</td>\n",
       "    </tr>\n",
       "    <tr>\n",
       "      <th>11</th>\n",
       "      <td>LoadC17</td>\n",
       "      <td>40</td>\n",
       "      <td>10.0</td>\n",
       "      <td>1.0</td>\n",
       "      <td>0.0</td>\n",
       "      <td>0.0</td>\n",
       "      <td>NaN</td>\n",
       "      <td>1.0</td>\n",
       "      <td>True</td>\n",
       "      <td>None</td>\n",
       "    </tr>\n",
       "    <tr>\n",
       "      <th>12</th>\n",
       "      <td>LoadC18</td>\n",
       "      <td>41</td>\n",
       "      <td>10.0</td>\n",
       "      <td>1.0</td>\n",
       "      <td>0.0</td>\n",
       "      <td>0.0</td>\n",
       "      <td>NaN</td>\n",
       "      <td>1.0</td>\n",
       "      <td>True</td>\n",
       "      <td>None</td>\n",
       "    </tr>\n",
       "    <tr>\n",
       "      <th>13</th>\n",
       "      <td>LoadC19</td>\n",
       "      <td>42</td>\n",
       "      <td>10.0</td>\n",
       "      <td>1.0</td>\n",
       "      <td>0.0</td>\n",
       "      <td>0.0</td>\n",
       "      <td>NaN</td>\n",
       "      <td>1.0</td>\n",
       "      <td>True</td>\n",
       "      <td>None</td>\n",
       "    </tr>\n",
       "    <tr>\n",
       "      <th>14</th>\n",
       "      <td>LoadC20</td>\n",
       "      <td>43</td>\n",
       "      <td>10.0</td>\n",
       "      <td>1.0</td>\n",
       "      <td>0.0</td>\n",
       "      <td>0.0</td>\n",
       "      <td>NaN</td>\n",
       "      <td>1.0</td>\n",
       "      <td>True</td>\n",
       "      <td>None</td>\n",
       "    </tr>\n",
       "  </tbody>\n",
       "</table>\n",
       "</div>"
      ],
      "text/plain": [
       "       name  bus  p_kw  q_kvar  const_z_percent  const_i_percent  sn_kva  \\\n",
       "0    LoadR1    2  10.0     1.0              0.0              0.0     NaN   \n",
       "1   LoadR11   12  10.0     1.0              0.0              0.0     NaN   \n",
       "2   LoadR15   16  10.0     1.0              0.0              0.0     NaN   \n",
       "3   LoadR16   17  10.0     1.0              0.0              0.0     NaN   \n",
       "4   LoadR17   18  10.0     1.0              0.0              0.0     NaN   \n",
       "5   LoadR18   19  10.0     1.0              0.0              0.0     NaN   \n",
       "6    LoadI2   22  10.0     1.0              0.0              0.0     NaN   \n",
       "7    LoadC1   24  10.0     1.0              0.0              0.0     NaN   \n",
       "8   LoadC12   35  10.0     1.0              0.0              0.0     NaN   \n",
       "9   LoadC13   36  10.0     1.0              0.0              0.0     NaN   \n",
       "10  LoadC14   37  10.0     1.0              0.0              0.0     NaN   \n",
       "11  LoadC17   40  10.0     1.0              0.0              0.0     NaN   \n",
       "12  LoadC18   41  10.0     1.0              0.0              0.0     NaN   \n",
       "13  LoadC19   42  10.0     1.0              0.0              0.0     NaN   \n",
       "14  LoadC20   43  10.0     1.0              0.0              0.0     NaN   \n",
       "\n",
       "    scaling  in_service  type  \n",
       "0       1.0        True  None  \n",
       "1       1.0        True  None  \n",
       "2       1.0        True  None  \n",
       "3       1.0        True  None  \n",
       "4       1.0        True  None  \n",
       "5       1.0        True  None  \n",
       "6       1.0        True  None  \n",
       "7       1.0        True  None  \n",
       "8       1.0        True  None  \n",
       "9       1.0        True  None  \n",
       "10      1.0        True  None  \n",
       "11      1.0        True  None  \n",
       "12      1.0        True  None  \n",
       "13      1.0        True  None  \n",
       "14      1.0        True  None  "
      ]
     },
     "execution_count": 21,
     "metadata": {},
     "output_type": "execute_result"
    }
   ],
   "source": [
    "net.load"
   ]
  },
  {
   "cell_type": "code",
   "execution_count": 22,
   "metadata": {},
   "outputs": [
    {
     "data": {
      "text/plain": [
       "['Load', 'LoadR1', 'q_var']"
      ]
     },
     "execution_count": 22,
     "metadata": {},
     "output_type": "execute_result"
    }
   ],
   "source": [
    "attr = \"Load/LoadR1/q_var\"\n",
    "attr.split(\"/\")"
   ]
  },
  {
   "cell_type": "code",
   "execution_count": 24,
   "metadata": {},
   "outputs": [],
   "source": [
    "pp.runpp(net, numba=False)"
   ]
  },
  {
   "cell_type": "code",
   "execution_count": 26,
   "metadata": {},
   "outputs": [
    {
     "data": {
      "text/html": [
       "<div>\n",
       "<style scoped>\n",
       "    .dataframe tbody tr th:only-of-type {\n",
       "        vertical-align: middle;\n",
       "    }\n",
       "\n",
       "    .dataframe tbody tr th {\n",
       "        vertical-align: top;\n",
       "    }\n",
       "\n",
       "    .dataframe thead th {\n",
       "        text-align: right;\n",
       "    }\n",
       "</style>\n",
       "<table border=\"1\" class=\"dataframe\">\n",
       "  <thead>\n",
       "    <tr style=\"text-align: right;\">\n",
       "      <th></th>\n",
       "      <th>name</th>\n",
       "      <th>bus</th>\n",
       "      <th>vm_pu</th>\n",
       "      <th>va_degree</th>\n",
       "      <th>in_service</th>\n",
       "    </tr>\n",
       "  </thead>\n",
       "  <tbody>\n",
       "    <tr>\n",
       "      <th>0</th>\n",
       "      <td>Feeder</td>\n",
       "      <td>0</td>\n",
       "      <td>1.0</td>\n",
       "      <td>0.0</td>\n",
       "      <td>True</td>\n",
       "    </tr>\n",
       "  </tbody>\n",
       "</table>\n",
       "</div>"
      ],
      "text/plain": [
       "     name  bus  vm_pu  va_degree  in_service\n",
       "0  Feeder    0    1.0        0.0        True"
      ]
     },
     "execution_count": 26,
     "metadata": {},
     "output_type": "execute_result"
    }
   ],
   "source": [
    "net.ext_grid"
   ]
  },
  {
   "cell_type": "code",
   "execution_count": 27,
   "metadata": {},
   "outputs": [
    {
     "data": {
      "text/html": [
       "<div>\n",
       "<style scoped>\n",
       "    .dataframe tbody tr th:only-of-type {\n",
       "        vertical-align: middle;\n",
       "    }\n",
       "\n",
       "    .dataframe tbody tr th {\n",
       "        vertical-align: top;\n",
       "    }\n",
       "\n",
       "    .dataframe thead th {\n",
       "        text-align: right;\n",
       "    }\n",
       "</style>\n",
       "<table border=\"1\" class=\"dataframe\">\n",
       "  <thead>\n",
       "    <tr style=\"text-align: right;\">\n",
       "      <th></th>\n",
       "      <th>p_kw</th>\n",
       "      <th>q_kvar</th>\n",
       "    </tr>\n",
       "  </thead>\n",
       "  <tbody>\n",
       "    <tr>\n",
       "      <th>0</th>\n",
       "      <td>-156.735703</td>\n",
       "      <td>-17.59711</td>\n",
       "    </tr>\n",
       "  </tbody>\n",
       "</table>\n",
       "</div>"
      ],
      "text/plain": [
       "         p_kw    q_kvar\n",
       "0 -156.735703 -17.59711"
      ]
     },
     "execution_count": 27,
     "metadata": {},
     "output_type": "execute_result"
    }
   ],
   "source": [
    "net.res_ext_grid"
   ]
  },
  {
   "cell_type": "code",
   "execution_count": 30,
   "metadata": {},
   "outputs": [
    {
     "data": {
      "text/plain": [
       "0"
      ]
     },
     "execution_count": 30,
     "metadata": {},
     "output_type": "execute_result"
    }
   ],
   "source": [
    "pp.get_element_index(net, \"ext_grid\", \"Feeder\")"
   ]
  },
  {
   "cell_type": "code",
   "execution_count": 36,
   "metadata": {},
   "outputs": [
    {
     "data": {
      "text/plain": [
       "('ext_grid', 'Feeder', 'p_kw')"
      ]
     },
     "execution_count": 36,
     "metadata": {},
     "output_type": "execute_result"
    }
   ],
   "source": [
    "attr = \"ext_grid/Feeder/p_kw\"\n",
    "table, name, col = attr.split(\"/\")\n",
    "table, name, col"
   ]
  },
  {
   "cell_type": "code",
   "execution_count": 41,
   "metadata": {},
   "outputs": [
    {
     "data": {
      "text/plain": [
       "-156.73570329316644"
      ]
     },
     "execution_count": 41,
     "metadata": {},
     "output_type": "execute_result"
    }
   ],
   "source": [
    "idx = pp.get_element_index(net, table, name)\n",
    "df = getattr(net, \"res_\"+table)\n",
    "df.loc[idx, col]"
   ]
  }
 ],
 "metadata": {
  "kernelspec": {
   "display_name": "Python 3",
   "language": "python",
   "name": "python3"
  },
  "language_info": {
   "codemirror_mode": {
    "name": "ipython",
    "version": 3
   },
   "file_extension": ".py",
   "mimetype": "text/x-python",
   "name": "python",
   "nbconvert_exporter": "python",
   "pygments_lexer": "ipython3",
   "version": "3.6.5"
  }
 },
 "nbformat": 4,
 "nbformat_minor": 2
}
