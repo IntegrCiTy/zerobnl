{
 "cells": [
  {
   "cell_type": "code",
   "execution_count": 1,
   "metadata": {},
   "outputs": [],
   "source": [
    "import os\n",
    "import json\n",
    "import pandas as pd\n",
    "import networkx as nx\n",
    "\n",
    "import matplotlib.pyplot as plt\n",
    "\n",
    "from zerobnl import CoSim\n",
    "\n",
    "sim = CoSim()"
   ]
  },
  {
   "cell_type": "code",
   "execution_count": 2,
   "metadata": {},
   "outputs": [
    {
     "data": {
      "text/html": [
       "<div>\n",
       "<style scoped>\n",
       "    .dataframe tbody tr th:only-of-type {\n",
       "        vertical-align: middle;\n",
       "    }\n",
       "\n",
       "    .dataframe tbody tr th {\n",
       "        vertical-align: top;\n",
       "    }\n",
       "\n",
       "    .dataframe thead th {\n",
       "        text-align: right;\n",
       "    }\n",
       "</style>\n",
       "<table border=\"1\" class=\"dataframe\">\n",
       "  <thead>\n",
       "    <tr style=\"text-align: right;\">\n",
       "      <th></th>\n",
       "      <th>name</th>\n",
       "      <th>bus</th>\n",
       "      <th>p_kw</th>\n",
       "      <th>q_kvar</th>\n",
       "      <th>const_z_percent</th>\n",
       "      <th>const_i_percent</th>\n",
       "      <th>sn_kva</th>\n",
       "      <th>scaling</th>\n",
       "      <th>in_service</th>\n",
       "      <th>type</th>\n",
       "    </tr>\n",
       "  </thead>\n",
       "  <tbody>\n",
       "    <tr>\n",
       "      <td>0</td>\n",
       "      <td>LoadR1</td>\n",
       "      <td>2</td>\n",
       "      <td>10.0</td>\n",
       "      <td>1.0</td>\n",
       "      <td>0.0</td>\n",
       "      <td>0.0</td>\n",
       "      <td>None</td>\n",
       "      <td>1.0</td>\n",
       "      <td>True</td>\n",
       "      <td>None</td>\n",
       "    </tr>\n",
       "    <tr>\n",
       "      <td>1</td>\n",
       "      <td>LoadR11</td>\n",
       "      <td>12</td>\n",
       "      <td>10.0</td>\n",
       "      <td>1.0</td>\n",
       "      <td>0.0</td>\n",
       "      <td>0.0</td>\n",
       "      <td>None</td>\n",
       "      <td>1.0</td>\n",
       "      <td>True</td>\n",
       "      <td>None</td>\n",
       "    </tr>\n",
       "    <tr>\n",
       "      <td>2</td>\n",
       "      <td>LoadR15</td>\n",
       "      <td>16</td>\n",
       "      <td>10.0</td>\n",
       "      <td>1.0</td>\n",
       "      <td>0.0</td>\n",
       "      <td>0.0</td>\n",
       "      <td>None</td>\n",
       "      <td>1.0</td>\n",
       "      <td>True</td>\n",
       "      <td>None</td>\n",
       "    </tr>\n",
       "    <tr>\n",
       "      <td>3</td>\n",
       "      <td>LoadR16</td>\n",
       "      <td>17</td>\n",
       "      <td>10.0</td>\n",
       "      <td>1.0</td>\n",
       "      <td>0.0</td>\n",
       "      <td>0.0</td>\n",
       "      <td>None</td>\n",
       "      <td>1.0</td>\n",
       "      <td>True</td>\n",
       "      <td>None</td>\n",
       "    </tr>\n",
       "    <tr>\n",
       "      <td>4</td>\n",
       "      <td>LoadR17</td>\n",
       "      <td>18</td>\n",
       "      <td>10.0</td>\n",
       "      <td>1.0</td>\n",
       "      <td>0.0</td>\n",
       "      <td>0.0</td>\n",
       "      <td>None</td>\n",
       "      <td>1.0</td>\n",
       "      <td>True</td>\n",
       "      <td>None</td>\n",
       "    </tr>\n",
       "  </tbody>\n",
       "</table>\n",
       "</div>"
      ],
      "text/plain": [
       "      name  bus  p_kw  q_kvar  const_z_percent  const_i_percent sn_kva  \\\n",
       "0   LoadR1    2  10.0     1.0              0.0              0.0   None   \n",
       "1  LoadR11   12  10.0     1.0              0.0              0.0   None   \n",
       "2  LoadR15   16  10.0     1.0              0.0              0.0   None   \n",
       "3  LoadR16   17  10.0     1.0              0.0              0.0   None   \n",
       "4  LoadR17   18  10.0     1.0              0.0              0.0   None   \n",
       "\n",
       "   scaling  in_service  type  \n",
       "0      1.0        True  None  \n",
       "1      1.0        True  None  \n",
       "2      1.0        True  None  \n",
       "3      1.0        True  None  \n",
       "4      1.0        True  None  "
      ]
     },
     "execution_count": 2,
     "metadata": {},
     "output_type": "execute_result"
    }
   ],
   "source": [
    "data_power_grid_folder = \"PowerGridData\"\n",
    "\n",
    "loads = pd.DataFrame(json.load(open(os.path.join(data_power_grid_folder, 'load.json'))))\n",
    "loads.index = map(int, loads.index)\n",
    "loads.head()"
   ]
  },
  {
   "cell_type": "code",
   "execution_count": 3,
   "metadata": {},
   "outputs": [],
   "source": [
    "set_attrs = [(\"load/{}/p_kw\".format(load), \"kw\") for load in loads.name]\n",
    "set_attrs += [(\"load/{}/q_kvar\".format(load), \"kvar\") for load in loads.name]\n",
    "\n",
    "sim.create_meta_model(\"MetaGrid\", set_attrs, [])\n",
    "sim.create_environment(\"EnvGrid\", \"wrapper_grid.py\", \"Dockerfile_grid\")\n",
    "\n",
    "files = [os.path.join(data_power_grid_folder, f) for f in os.listdir(data_power_grid_folder)]\n",
    "sim.add_node(\"Grid\", \"MetaGrid\", \"EnvGrid\", files=files)"
   ]
  },
  {
   "cell_type": "code",
   "execution_count": 4,
   "metadata": {},
   "outputs": [],
   "source": [
    "sim.create_meta_model(\"MetaLoad\", [], [(\"p_kw\", \"kw\"), (\"q_kvar\", \"kvar\")])\n",
    "sim.create_environment(\"EnvLoad\", \"wrapper_load.py\", \"Dockerfile_load\")\n",
    "\n",
    "for load in loads.name:\n",
    "    sim.add_node(load, \"MetaLoad\", \"EnvLoad\", init_values={\"loc\": 5.0, \"scale\": 0.5})"
   ]
  },
  {
   "cell_type": "code",
   "execution_count": 5,
   "metadata": {},
   "outputs": [],
   "source": [
    "for load in loads.name:\n",
    "    sim.add_link(load, \"p_kw\", \"Grid\", \"load/{}/p_kw\".format(load))\n",
    "    sim.add_link(load, \"q_kvar\", \"Grid\", \"load/{}/q_kvar\".format(load))"
   ]
  },
  {
   "cell_type": "code",
   "execution_count": 6,
   "metadata": {},
   "outputs": [],
   "source": [
    "sim.create_sequence([[load for load in loads.name], [\"Grid\"]])\n",
    "sim.set_time_unit(\"minutes\")\n",
    "sim.create_steps([60] * 12)"
   ]
  },
  {
   "cell_type": "code",
   "execution_count": 7,
   "metadata": {},
   "outputs": [
    {
     "name": "stderr",
     "output_type": "stream",
     "text": [
      "INFO :: Simulation finished in 0 min and 24 sec\n"
     ]
    }
   ],
   "source": [
    "sim.run()"
   ]
  },
  {
   "cell_type": "code",
   "execution_count": 8,
   "metadata": {},
   "outputs": [
    {
     "data": {
      "text/html": [
       "<div>\n",
       "<style scoped>\n",
       "    .dataframe tbody tr th:only-of-type {\n",
       "        vertical-align: middle;\n",
       "    }\n",
       "\n",
       "    .dataframe tbody tr th {\n",
       "        vertical-align: top;\n",
       "    }\n",
       "\n",
       "    .dataframe thead th {\n",
       "        text-align: right;\n",
       "    }\n",
       "</style>\n",
       "<table border=\"1\" class=\"dataframe\">\n",
       "  <thead>\n",
       "    <tr style=\"text-align: right;\">\n",
       "      <th></th>\n",
       "      <th>IN/OUT</th>\n",
       "      <th>Node</th>\n",
       "      <th>Attribute</th>\n",
       "    </tr>\n",
       "  </thead>\n",
       "  <tbody>\n",
       "    <tr>\n",
       "      <td>0</td>\n",
       "      <td>OUT</td>\n",
       "      <td>LoadR11</td>\n",
       "      <td>q_kvar</td>\n",
       "    </tr>\n",
       "    <tr>\n",
       "      <td>1</td>\n",
       "      <td>X</td>\n",
       "      <td>Grid</td>\n",
       "      <td>ext_grid/Feeder/p_kw</td>\n",
       "    </tr>\n",
       "    <tr>\n",
       "      <td>2</td>\n",
       "      <td>OUT</td>\n",
       "      <td>LoadC17</td>\n",
       "      <td>p_kw</td>\n",
       "    </tr>\n",
       "    <tr>\n",
       "      <td>3</td>\n",
       "      <td>OUT</td>\n",
       "      <td>LoadR17</td>\n",
       "      <td>p_kw</td>\n",
       "    </tr>\n",
       "    <tr>\n",
       "      <td>4</td>\n",
       "      <td>OUT</td>\n",
       "      <td>LoadR1</td>\n",
       "      <td>q_kvar</td>\n",
       "    </tr>\n",
       "  </tbody>\n",
       "</table>\n",
       "</div>"
      ],
      "text/plain": [
       "  IN/OUT     Node             Attribute\n",
       "0    OUT  LoadR11                q_kvar\n",
       "1      X     Grid  ext_grid/Feeder/p_kw\n",
       "2    OUT  LoadC17                  p_kw\n",
       "3    OUT  LoadR17                  p_kw\n",
       "4    OUT   LoadR1                q_kvar"
      ]
     },
     "execution_count": 8,
     "metadata": {},
     "output_type": "execute_result"
    }
   ],
   "source": [
    "sim.connect_to_results_db()\n",
    "sim.get_list_of_available_results().head()"
   ]
  },
  {
   "cell_type": "code",
   "execution_count": 9,
   "metadata": {},
   "outputs": [
    {
     "name": "stderr",
     "output_type": "stream",
     "text": [
      "INFO :: Matching results: Grid - ext_grid/Feeder/p_kw\n",
      "INFO :: Matching results: Grid - ext_grid/Feeder/q_kvar\n"
     ]
    },
    {
     "name": "stdout",
     "output_type": "stream",
     "text": [
      "X||Grid||ext_grid/Feeder/p_kw\n",
      "2000-01-01 01:00:00   -80.161539\n",
      "2000-01-01 02:00:00   -79.565091\n",
      "2000-01-01 03:00:00   -80.244246\n",
      "2000-01-01 04:00:00   -81.069722\n",
      "2000-01-01 05:00:00   -80.486944\n",
      "2000-01-01 06:00:00   -81.289766\n",
      "2000-01-01 07:00:00   -80.813252\n",
      "2000-01-01 08:00:00   -81.669413\n",
      "2000-01-01 09:00:00   -78.972829\n",
      "2000-01-01 10:00:00   -76.102068\n",
      "2000-01-01 11:00:00   -77.994719\n",
      "2000-01-01 12:00:00   -83.520525\n",
      "dtype: float64\n",
      "X||Grid||ext_grid/Feeder/q_kvar\n",
      "2000-01-01 01:00:00   -8.249267\n",
      "2000-01-01 02:00:00   -8.161175\n",
      "2000-01-01 03:00:00   -8.221454\n",
      "2000-01-01 04:00:00   -8.349722\n",
      "2000-01-01 05:00:00   -8.270691\n",
      "2000-01-01 06:00:00   -8.367608\n",
      "2000-01-01 07:00:00   -8.269098\n",
      "2000-01-01 08:00:00   -8.372670\n",
      "2000-01-01 09:00:00   -8.101067\n",
      "2000-01-01 10:00:00   -7.740331\n",
      "2000-01-01 11:00:00   -7.974055\n",
      "2000-01-01 12:00:00   -8.605918\n",
      "dtype: float64\n"
     ]
    }
   ],
   "source": [
    "results = sim.get_results_by_pattern(\"X*Grid*\")\n",
    "for key, value in results.items():\n",
    "    print(key)\n",
    "    print(value)"
   ]
  },
  {
   "cell_type": "code",
   "execution_count": 10,
   "metadata": {},
   "outputs": [
    {
     "data": {
      "text/plain": [
       "dict_keys(['X||Grid||ext_grid/Feeder/p_kw', 'X||Grid||ext_grid/Feeder/q_kvar'])"
      ]
     },
     "execution_count": 10,
     "metadata": {},
     "output_type": "execute_result"
    }
   ],
   "source": [
    "results.keys()"
   ]
  },
  {
   "cell_type": "code",
   "execution_count": 11,
   "metadata": {},
   "outputs": [
    {
     "data": {
      "text/plain": [
       "<matplotlib.legend.Legend at 0x7fcedbf94080>"
      ]
     },
     "execution_count": 11,
     "metadata": {},
     "output_type": "execute_result"
    },
    {
     "data": {
      "image/png": "[encoded data removed]",
      "text/plain": [
       "<Figure size 648x432 with 2 Axes>"
      ]
     },
     "metadata": {
      "needs_background": "light"
     },
     "output_type": "display_data"
    }
   ],
   "source": [
    "%matplotlib inline\n",
    "\n",
    "from pandas.plotting import register_matplotlib_converters\n",
    "register_matplotlib_converters()\n",
    "\n",
    "fig, ax = plt.subplots(2, figsize=(9, 6))\n",
    "ax[0].plot(results[\"X||Grid||ext_grid/Feeder/p_kw\"], label=\"Feeder - Active Power\", color=\"C0\")\n",
    "ax[0].set_ylabel(\"P [kW]\")\n",
    "ax[1].plot(results[\"X||Grid||ext_grid/Feeder/q_kvar\"], label=\"Feeder - Reactive Power\", color=\"C1\")\n",
    "ax[1].set_ylabel(\"Q [kVAR]\")\n",
    "fig.legend()"
   ]
  },
  {
   "cell_type": "code",
   "execution_count": 12,
   "metadata": {},
   "outputs": [
    {
     "data": {
      "image/png": "[encoded data removed]",
      "text/plain": [
       "<Figure size 432x288 with 1 Axes>"
      ]
     },
     "metadata": {},
     "output_type": "display_data"
    }
   ],
   "source": [
    "%matplotlib inline\n",
    "\n",
    "plt.figure(figsize=(6, 4))\n",
    "g = sim.get_graph()\n",
    "# Draw the graph with a Kamada-Kawai force-directed layout.\n",
    "nx.draw_kamada_kawai(g, with_labels=True, font_weight='bold')"
   ]
  }
 ],
 "metadata": {
  "kernelspec": {
   "display_name": "Python 3",
   "language": "python",
   "name": "python3"
  },
  "language_info": {
   "codemirror_mode": {
    "name": "ipython",
    "version": 3
   },
   "file_extension": ".py",
   "mimetype": "text/x-python",
   "name": "python",
   "nbconvert_exporter": "python",
   "pygments_lexer": "ipython3",
   "version": "3.6.8"
  }
 },
 "nbformat": 4,
 "nbformat_minor": 2
}
