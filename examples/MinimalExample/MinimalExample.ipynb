{
 "cells": [
  {
   "cell_type": "markdown",
   "metadata": {},
   "source": [
    "# Minimal dummy example with zerobnl\n",
    "\n",
    "We consider the following two nodes graph as a minimal dummy example of two nodes exchanging a variable and randomly add or substract a given value from it:\n",
    "\n",
    "<img src=\"./model.png\" alt=\"Model\" style=\"width: 500px;\"/>\n",
    "\n",
    "The above graph can be created using zerobnl as follow:"
   ]
  },
  {
   "cell_type": "code",
   "execution_count": 1,
   "metadata": {},
   "outputs": [],
   "source": [
    "import os\n",
    "from zerobnl import CoSim"
   ]
  },
  {
   "cell_type": "markdown",
   "metadata": {},
   "source": [
    "You can safely ignore the following error (it will also be in the nodes logs):\n",
    "\n",
    "`RuntimeWarning: numpy.dtype size changed, may indicate binary incompatibility. Expected 96, got 88`\n",
    "\n",
    "-> [Numpy documentation](https://github.com/numpy/numpy/pull/432)"
   ]
  },
  {
   "cell_type": "code",
   "execution_count": 2,
   "metadata": {},
   "outputs": [],
   "source": [
    "sim = CoSim()\n",
    "\n",
    "sim.create_meta_model(\"MetaBase\", [(\"a\", \"unit\")], [(\"b\", \"unit\")])\n",
    "sim.create_environment(\"EnvBase\", \"wrapper_base.py\", \"Dockerfile_base\")\n",
    "\n",
    "sim.add_node(\"Base0\", \"MetaBase\", \"EnvBase\", init_values={\"c\": 0.50}, files=[\"empty_file_for_example_purpose.txt\"])\n",
    "sim.add_node(\"Base1\", \"MetaBase\", \"EnvBase\", init_values={\"c\": 0.25})\n",
    "\n",
    "sim.add_link(\"Base0\", \"b\", \"Base1\", \"a\")\n",
    "sim.add_link(\"Base1\", \"b\", \"Base0\", \"a\")\n",
    "\n",
    "sim.create_sequence([[\"Base0\"], [\"Base1\"]])\n",
    "sim.set_time_unit(\"seconds\")\n",
    "sim.create_steps([15] * 4 * 60)"
   ]
  },
  {
   "cell_type": "markdown",
   "metadata": {},
   "source": [
    "This simulation is based on `wrapper_base.py`, you can use to it as template to create your own. "
   ]
  },
  {
   "cell_type": "code",
   "execution_count": 3,
   "metadata": {},
   "outputs": [
    {
     "name": "stderr",
     "output_type": "stream",
     "text": [
      "INFO :: Simulation finished in 0 min and 8 sec\n"
     ]
    }
   ],
   "source": [
    "sim.run()"
   ]
  },
  {
   "cell_type": "markdown",
   "metadata": {},
   "source": [
    "The first time you run this cell, it can take a long time, all the containers have to be build from scratch, once it's done it will run much faster.\n",
    "\n",
    "If you see `INFO :: Simulation finished in X min and Y sec` it means everything went well.\n",
    "You can find logs of the nodes in the file `nodes.log`, it's a text file you can open it directly in Jupyter or in your favorite text editor.\n",
    "\n",
    "At the begining of the file you will find a serie of:\n",
    "\n",
    "`Step X/10 : DO SOMETHING\n",
    " ---> 29d2f3226daf`\n",
    " \n",
    "It's the logs of the creation of the Docker image, based on the provided Dockerfile (here `Dockerfile_base`).\n",
    "\n",
    "Then all the logs are structures in the same way:\n",
    "\n",
    "`<node>    | <level> :: <message>`\n",
    "\n",
    "* `node` refers to the concerned simulation node or orchestrator\n",
    "* `level` can be `DEBUG`: used for development purpose, `INFO`: giving you info on the running process, `WARNING`: warning you on action to make or some weird behaviour, `ERROR`: something went wrong and `CRITICAL`: something went really wrong.\n",
    "* `message` is the body of the log, it describes what's happening."
   ]
  },
  {
   "cell_type": "markdown",
   "metadata": {},
   "source": [
    "You can also find information on the ongoing simulation in the file `activity.log` (in the root folder for the main processus and on the temporary folder for each node)"
   ]
  },
  {
   "cell_type": "code",
   "execution_count": 4,
   "metadata": {},
   "outputs": [
    {
     "data": {
      "text/html": [
       "<div>\n",
       "<style scoped>\n",
       "    .dataframe tbody tr th:only-of-type {\n",
       "        vertical-align: middle;\n",
       "    }\n",
       "\n",
       "    .dataframe tbody tr th {\n",
       "        vertical-align: top;\n",
       "    }\n",
       "\n",
       "    .dataframe thead th {\n",
       "        text-align: right;\n",
       "    }\n",
       "</style>\n",
       "<table border=\"1\" class=\"dataframe\">\n",
       "  <thead>\n",
       "    <tr style=\"text-align: right;\">\n",
       "      <th></th>\n",
       "      <th>IN/OUT</th>\n",
       "      <th>Node</th>\n",
       "      <th>Attribute</th>\n",
       "    </tr>\n",
       "  </thead>\n",
       "  <tbody>\n",
       "    <tr>\n",
       "      <td>0</td>\n",
       "      <td>OUT</td>\n",
       "      <td>Base1</td>\n",
       "      <td>b</td>\n",
       "    </tr>\n",
       "    <tr>\n",
       "      <td>1</td>\n",
       "      <td>X</td>\n",
       "      <td>Base1</td>\n",
       "      <td>y</td>\n",
       "    </tr>\n",
       "    <tr>\n",
       "      <td>2</td>\n",
       "      <td>X</td>\n",
       "      <td>Base0</td>\n",
       "      <td>y</td>\n",
       "    </tr>\n",
       "    <tr>\n",
       "      <td>3</td>\n",
       "      <td>OUT</td>\n",
       "      <td>Base0</td>\n",
       "      <td>b</td>\n",
       "    </tr>\n",
       "  </tbody>\n",
       "</table>\n",
       "</div>"
      ],
      "text/plain": [
       "  IN/OUT   Node Attribute\n",
       "0    OUT  Base1         b\n",
       "1      X  Base1         y\n",
       "2      X  Base0         y\n",
       "3    OUT  Base0         b"
      ]
     },
     "execution_count": 4,
     "metadata": {},
     "output_type": "execute_result"
    }
   ],
   "source": [
    "sim.connect_to_results_db()\n",
    "sim.get_list_of_available_results()"
   ]
  },
  {
   "cell_type": "markdown",
   "metadata": {},
   "source": [
    "The name to the stored results are build as `<type>||<node>||<attribute>`.\n",
    "\n",
    "`type` can be:\n",
    "* `IN` if it's an input attribute (to set - stored automatically)\n",
    "* `OUT` if it's an output attribute (to get - stored automatically)\n",
    "* `X` if it's an internal value (stored by the user, using the `save_attribute()` method in the wrapper)\n",
    "\n",
    "Knowing this, you can create matching pattern using `*` in order to properly select results."
   ]
  },
  {
   "cell_type": "code",
   "execution_count": 5,
   "metadata": {
    "scrolled": false
   },
   "outputs": [
    {
     "name": "stderr",
     "output_type": "stream",
     "text": [
      "INFO :: Matching results: Base1 - b\n"
     ]
    },
    {
     "name": "stdout",
     "output_type": "stream",
     "text": [
      "OUT||Base1||b\n",
      "2000-01-01 00:00:15   -0.75\n",
      "2000-01-01 00:00:30   -0.50\n",
      "2000-01-01 00:00:45   -1.25\n",
      "2000-01-01 00:01:00   -1.50\n",
      "2000-01-01 00:01:15   -1.25\n",
      "                       ... \n",
      "2000-01-01 00:59:00    0.50\n",
      "2000-01-01 00:59:15    1.00\n",
      "2000-01-01 00:59:30    1.25\n",
      "2000-01-01 00:59:45    1.00\n",
      "2000-01-01 01:00:00    1.00\n",
      "Length: 240, dtype: float64\n"
     ]
    }
   ],
   "source": [
    "for key, value in sim.get_results_by_pattern(\"OUT*Base1*\").items():\n",
    "    print(key)\n",
    "    print(value)"
   ]
  },
  {
   "cell_type": "code",
   "execution_count": 6,
   "metadata": {},
   "outputs": [
    {
     "name": "stderr",
     "output_type": "stream",
     "text": [
      "INFO :: Matching results: Base1 - y\n"
     ]
    },
    {
     "name": "stdout",
     "output_type": "stream",
     "text": [
      "X||Base1||y\n",
      "2000-01-01 00:00:15   -1.0\n",
      "2000-01-01 00:00:30   -1.0\n",
      "2000-01-01 00:00:45   -1.0\n",
      "2000-01-01 00:01:00   -1.0\n",
      "2000-01-01 00:01:15   -1.0\n",
      "                      ... \n",
      "2000-01-01 00:59:00    1.0\n",
      "2000-01-01 00:59:15    0.0\n",
      "2000-01-01 00:59:30   -1.0\n",
      "2000-01-01 00:59:45    1.0\n",
      "2000-01-01 01:00:00    0.0\n",
      "Length: 240, dtype: float64\n"
     ]
    }
   ],
   "source": [
    "for key, value in sim.get_results_by_pattern(\"X*Base1*\").items():\n",
    "    print(key)\n",
    "    print(value)"
   ]
  }
 ],
 "metadata": {
  "kernelspec": {
   "display_name": "Python 3",
   "language": "python",
   "name": "python3"
  },
  "language_info": {
   "codemirror_mode": {
    "name": "ipython",
    "version": 3
   },
   "file_extension": ".py",
   "mimetype": "text/x-python",
   "name": "python",
   "nbconvert_exporter": "python",
   "pygments_lexer": "ipython3",
   "version": "3.6.8"
  }
 },
 "nbformat": 4,
 "nbformat_minor": 2
}
